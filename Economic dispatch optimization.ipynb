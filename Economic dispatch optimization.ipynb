{
  "nbformat": 4,
  "nbformat_minor": 0,
  "metadata": {
    "colab": {
      "provenance": [],
      "authorship_tag": "ABX9TyM8s4Ci5OhxDdAnu+gd7ssY",
      "include_colab_link": true
    },
    "kernelspec": {
      "name": "python3",
      "display_name": "Python 3"
    },
    "language_info": {
      "name": "python"
    }
  },
  "cells": [
    {
      "cell_type": "markdown",
      "metadata": {
        "id": "view-in-github",
        "colab_type": "text"
      },
      "source": [
        "<a href=\"https://colab.research.google.com/github/bevel-bee/Economic-dispatch-optimization/blob/main/Economic%20dispatch%20optimization.ipynb\" target=\"_parent\"><img src=\"https://colab.research.google.com/assets/colab-badge.svg\" alt=\"Open In Colab\"/></a>"
      ]
    },
    {
      "cell_type": "markdown",
      "source": [
        "## import library"
      ],
      "metadata": {
        "id": "4Q8Ipxt74O34"
      }
    },
    {
      "cell_type": "code",
      "execution_count": 1,
      "metadata": {
        "id": "-CaVo_5G3vse"
      },
      "outputs": [],
      "source": [
        "import pandas as pd\n",
        "import matplotlib.pyplot as plt"
      ]
    },
    {
      "cell_type": "markdown",
      "source": [
        "## Create DataFrames from 'inputs' folder\n"
      ],
      "metadata": {
        "id": "GRBpz8vK4zus"
      }
    },
    {
      "cell_type": "code",
      "source": [
        "powerplants = pd.read_csv('C:\\\\Users\\\\heinh\\\\Documents\\\\1 REM Semester 3\\\\EMPython\\\\Week 5\\\\inputs\\\\2020_majorPowerplants_GER_1h.csv', index_col=0)\n",
        "fuel_prices = pd.read_csv('C:\\\\Users\\\\heinh\\\\Documents\\\\1 REM Semester 3\\\\EMPython\\\\Week 5\\\\inputs\\\\2020_fuelPrices_GER_1h.csv', index_col=0, parse_dates=True)\n",
        "emission_factors = pd.read_csv('C:\\\\Users\\\\heinh\\\\Documents\\\\1 REM Semester 3\\\\EMPython\\\\Week 5\\\\inputs\\\\2020_emissionFactors_GER_1h.csv', index_col=0)\n",
        "demand_df = pd.read_csv('C:\\\\Users\\\\heinh\\\\Documents\\\\1 REM Semester 3\\\\EMPython\\\\Week 5\\\\inputs\\\\2020_demand_GER_1h.csv', index_col=0, parse_dates=True)\n",
        "feed_in_df = pd.read_csv('C:\\\\Users\\\\heinh\\\\Documents\\\\1 REM Semester 3\\\\EMPython\\\\Week 5\\\\inputs\\\\2020_renewablesCF_GER_1h.csv', index_col=0, parse_dates=True)"
      ],
      "metadata": {
        "id": "EhQqIJq25U5J"
      },
      "execution_count": null,
      "outputs": []
    },
    {
      "cell_type": "markdown",
      "source": [
        "## Setting Colors"
      ],
      "metadata": {
        "id": "FuvHD_rl5pKg"
      }
    }
  ]
}