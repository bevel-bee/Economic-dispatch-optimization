{
  "nbformat": 4,
  "nbformat_minor": 0,
  "metadata": {
    "colab": {
      "provenance": [],
      "authorship_tag": "ABX9TyMH9N33sVoA+/kGG4sdIPYS",
      "include_colab_link": true
    },
    "kernelspec": {
      "name": "python3",
      "display_name": "Python 3"
    },
    "language_info": {
      "name": "python"
    }
  },
  "cells": [
    {
      "cell_type": "markdown",
      "metadata": {
        "id": "view-in-github",
        "colab_type": "text"
      },
      "source": [
        "<a href=\"https://colab.research.google.com/github/bevel-bee/Economic-dispatch-optimization/blob/main/Economic_dispatch_optimization.ipynb\" target=\"_parent\"><img src=\"https://colab.research.google.com/assets/colab-badge.svg\" alt=\"Open In Colab\"/></a>"
      ]
    },
    {
      "cell_type": "markdown",
      "source": [
        "## import library"
      ],
      "metadata": {
        "id": "4Q8Ipxt74O34"
      }
    },
    {
      "cell_type": "code",
      "execution_count": null,
      "metadata": {
        "id": "-CaVo_5G3vse"
      },
      "outputs": [],
      "source": [
        "import pandas as pd\n",
        "import matplotlib.pyplot as plt\n",
        "from pyomo.environ import *         # * means import everything"
      ]
    },
    {
      "cell_type": "markdown",
      "source": [
        "**⚡ Samples Choosing Models with Variable, Constraints, and Objective    (⚡ is just a sample, not for the actual script)**"
      ],
      "metadata": {
        "id": "LRAtLLbbVOU0"
      }
    },
    {
      "cell_type": "code",
      "source": [
        "'''\n",
        "model = AbstractModel()\n",
        "model.x1 = Var (bounds=(0,4), within=NonNegativeReals ) \n",
        "model.x2 = Var (bounds=(0,4), within=NonNegativeReals ) \n",
        "model.a11 =Param(mutable=True)\n",
        "model.eq1 = Constraint(expr=model.a11*model.x1+3*model.x2<=4)\n",
        "model.eq2 = Constraint(expr=9*model.x1+1*model.x2<=6)\n",
        "model.obj = Objective(expr=3*model.x1+model.x2, sense=maximize)\n",
        "'''"
      ],
      "metadata": {
        "colab": {
          "base_uri": "https://localhost:8080/",
          "height": 53
        },
        "id": "M7DLgLPNV2MV",
        "outputId": "bae92cf8-4c50-4c1d-f515-93f0d6ec6576"
      },
      "execution_count": 2,
      "outputs": [
        {
          "output_type": "execute_result",
          "data": {
            "text/plain": [
              "'\\nmodel = AbstractModel()\\nmodel.x1 = Var (bounds=(0,4), within=NonNegativeReals ) \\nmodel.x2 = Var (bounds=(0,4), within=NonNegativeReals ) \\nmodel.a11 =Param(mutable=True)\\nmodel.eq1 = Constraint(expr=model.a11*model.x1+3*model.x2<=4)\\nmodel.eq2 = Constraint(expr=9*model.x1+1*model.x2<=6)\\nmodel.obj = Objective(expr=3*model.x1+model.x2, sense=maximize)\\n'"
            ],
            "application/vnd.google.colaboratory.intrinsic+json": {
              "type": "string"
            }
          },
          "metadata": {},
          "execution_count": 2
        }
      ]
    },
    {
      "cell_type": "markdown",
      "source": [
        "## Create DataFrames from 'inputs' folder\n"
      ],
      "metadata": {
        "id": "GRBpz8vK4zus"
      }
    },
    {
      "cell_type": "code",
      "source": [
        "powerplants = pd.read_csv('inputs/2020_majorPowerplants_GER_1h.csv', index_col=0)\n",
        "emission_factors = pd.read_csv('inputs/2020_emissionFactors_GER_1h.csv', index_col=0)\n",
        "demand_df = pd.read_csv('inputs/2020_demand_GER_1h.csv', index_col=0, parse_dates=True)\n",
        "feed_in_df = pd.read_csv('inputs/2020_renewablesCF_GER_1h.csv', index_col=0, parse_dates=True)\n",
        "fuel_prices = pd.read_csv('inputs/2020_fuelPrices_GER_1h.csv', index_col=0, parse_dates=True)"
      ],
      "metadata": {
        "id": "EhQqIJq25U5J"
      },
      "execution_count": null,
      "outputs": []
    },
    {
      "cell_type": "markdown",
      "source": [
        "## Setting Colors"
      ],
      "metadata": {
        "id": "FuvHD_rl5pKg"
      }
    },
    {
      "cell_type": "code",
      "source": [
        "colors = {'nuclear': 'green',\n",
        "          'lignite': 'brown',\n",
        "          'hard coal': 'black',\n",
        "          'natural gas': 'red',\n",
        "          'oil': 'yellow'\n",
        "          }"
      ],
      "metadata": {
        "id": "IFZT-EkK7kZT"
      },
      "execution_count": null,
      "outputs": []
    },
    {
      "cell_type": "markdown",
      "source": [],
      "metadata": {
        "id": "DYYkBKm870ca"
      }
    }
  ]
}