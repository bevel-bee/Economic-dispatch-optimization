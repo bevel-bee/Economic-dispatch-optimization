{
  "nbformat": 4,
  "nbformat_minor": 0,
  "metadata": {
    "colab": {
      "provenance": [],
      "include_colab_link": true
    },
    "kernelspec": {
      "name": "python3",
      "display_name": "Python 3"
    },
    "language_info": {
      "name": "python"
    }
  },
  "cells": [
    {
      "cell_type": "markdown",
      "metadata": {
        "id": "view-in-github",
        "colab_type": "text"
      },
      "source": [
        "<a href=\"https://colab.research.google.com/github/bevel-bee/Economic-dispatch-optimization/blob/main/Economic_dispatch_optimization.ipynb\" target=\"_parent\"><img src=\"https://colab.research.google.com/assets/colab-badge.svg\" alt=\"Open In Colab\"/></a>"
      ]
    },
    {
      "cell_type": "markdown",
      "source": [
        "## 🟢 import library **(🟢 is actual script to run)**"
      ],
      "metadata": {
        "id": "4Q8Ipxt74O34"
      }
    },
    {
      "cell_type": "code",
      "execution_count": null,
      "metadata": {
        "id": "-CaVo_5G3vse"
      },
      "outputs": [],
      "source": [
        "import pandas as pd\n",
        "import matplotlib.pyplot as plt\n",
        "from pyomo.environ import *         # * means import everything\n",
        "import numpy as np"
      ]
    },
    {
      "cell_type": "markdown",
      "source": [
        "⚡ Samples Choosing Models with Variable, Instant, Constraints, and Objective    **(⚡ is just a sample, not for the actual script)**"
      ],
      "metadata": {
        "id": "LRAtLLbbVOU0"
      }
    },
    {
      "cell_type": "markdown",
      "source": [
        "![image.png](data:image/png;base64,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)"
      ],
      "metadata": {
        "id": "vM-oMHClYLOL"
      }
    },
    {
      "cell_type": "code",
      "source": [
        "''' \n",
        "model = ConcreteModel()       # or model = AbstractModel()\n",
        "model.x = pyo.Var([1,2], domain = pyo.NonNegativeReals)       # 📗 From Lecture\n",
        "(or)_______________________________________\n",
        "model.x1 = Var(bounds = (0,4), within = NonNegativeReals )      # 📙 From another example\n",
        "model.x2 = Var(bounds = (0,4), within = NonNegativeReals ) \n",
        "model.a11 =Param(mutable=True)        # if iterations are necessary\n",
        "model.R=Param(initialize=1)       # R in case of limiting values for RHS  # All given data are to be put as 'initialize'\n",
        "\n",
        "\n",
        "model.Constraint_1 = pyo.Constraint(expr = 10*model.x[1] + 20*model.x[2] <= 6000)       # 📗 From Lecture\n",
        "model.Constraint_2 = pyo.Constraint(expr = 5*model.x[1] + 4*model.x[2] <= 2000)\n",
        "model.Constraint_3 = pyo.Constraint(expr = 1*model.x[1] + 4*model.x[2] <= 1000)\n",
        "model.Constraint_4 = pyo.Constraint(expr = 1*model.x[1] + 8*model.x[2] <= 1840)\n",
        "(or)_______________________________________\n",
        "model.eq1 = Constraint(expr = model.a11*model.x1 + 3*model.x2<=4)       # 📙 From another example\n",
        "model.eq2 = Constraint(expr = 9*model.x1 + 1*model.x2<=6)\n",
        "\n",
        "\n",
        "model.obj = pyo.Objective(expr = 10*model.x[1] + 12*model.x[2], sense = pyo.maximize)       # 📗 From Lecture\n",
        "(or)_______________________________________\n",
        "model.obj = Objective(expr = 3*model.x1 + model.x2, sense=maximize)       # 📙 From another example\n",
        "'''"
      ],
      "metadata": {
        "id": "M7DLgLPNV2MV"
      },
      "execution_count": null,
      "outputs": []
    },
    {
      "cell_type": "markdown",
      "source": [
        "⚡Assign 'glpk' and 'feasible' check  **(feasible check is not necessary always)**\n"
      ],
      "metadata": {
        "id": "bVdXLZ-4agfm"
      }
    },
    {
      "cell_type": "code",
      "source": [
        "'''\n",
        "model3 = pyo.ConcreteModel()  # As usual\n",
        "\n",
        "model3.x = pyo.Var([1,2], domain = pyo.Reals)   # As usual\n",
        "\n",
        "def rule_1(mo):     # 📗 From Lecture_Constraints\n",
        "    return mo.x[1] + 4*mo.x[2] >= 10    # Coonstraint 1\n",
        "model3.constr_1 = pyo.Constraint(rule=rule_1)\n",
        "\n",
        "def rule_5(m):      #   Objective     # 📗 From Lecture_Objective\n",
        "    return -7*m.x[1] + 2* m.x[2]\n",
        "model3.objective = pyo.Objective(rule=rule_5, sense = pyo.minimize)\n",
        "\n",
        "opt = pyo.SolverFactory('glpk').solve(model3)     # 📗 From Lecture_Solve\n",
        "for v in model3.component_data_objects([pyo.Var, pyo.Objective]):\n",
        "    print(v, '=', pyo.value(v))\n",
        "(or)_______________________________________\n",
        "opt = SolverFactory('glpk')       # 📙 From another example\n",
        "instance = model.create_instance()\n",
        "\n",
        "instance.a11=1\n",
        "results = opt.solve(instance) # solves and updates instance\n",
        "if (results.solver.status == SolverStatus.ok) and (results.solver.termination_condition == TerminationCondition.optimal):\n",
        "    print('feasible')\n",
        "elif (results.solver.termination_condition == TerminationCondition.infeasible):\n",
        "    print('infeasible')\n",
        "else:\n",
        "    print ('Solver Status:',  results.solver.status)\n",
        "'''"
      ],
      "metadata": {
        "id": "7ZrC1Fgia9XR"
      },
      "execution_count": null,
      "outputs": []
    },
    {
      "cell_type": "markdown",
      "source": [
        "⚡Show Results and test try y and obj values **if x=1 **"
      ],
      "metadata": {
        "id": "4-LX7lP_dVYU"
      }
    },
    {
      "cell_type": "code",
      "source": [
        "'''\n",
        "opt = pyo.SolverFactory('glpk')\n",
        "opt.solve(model)\n",
        "\n",
        "print('x= ',round(value(model.x),3))\n",
        "print('y= ',round(value(model.y),3))\n",
        "print('OF= ',round(value(model.f1),3) )\n",
        "_______________________________________\n",
        "model.x.fix(1)\n",
        "results=solver.solve(model);\n",
        "'''"
      ],
      "metadata": {
        "id": "qFlJ7Y1Gdt_Z",
        "colab": {
          "base_uri": "https://localhost:8080/",
          "height": 53
        },
        "outputId": "b28a5d38-fe18-45c4-8766-adfa6742eb45"
      },
      "execution_count": null,
      "outputs": [
        {
          "output_type": "execute_result",
          "data": {
            "text/plain": [
              "\"\\nprint('x= ',round(value(model.x),3))\\nprint('y= ',round(value(model.y),3))\\nprint('OF= ',round(value(model.f1),3) )\\n_______________________________________\\nmodel.x.fix(1)\\nresults=solver.solve(model);\\n\""
            ],
            "application/vnd.google.colaboratory.intrinsic+json": {
              "type": "string"
            }
          },
          "metadata": {},
          "execution_count": 2
        }
      ]
    },
    {
      "cell_type": "markdown",
      "source": [
        "## 🟢Create DataFrames from 'inputs' folder\n"
      ],
      "metadata": {
        "id": "GRBpz8vK4zus"
      }
    },
    {
      "cell_type": "code",
      "source": [
        "powerplants = pd.read_csv('inputs/2020_majorPowerplants_GER_1h.csv', index_col=0)\n",
        "emission_factors = pd.read_csv('inputs/2020_emissionFactors_GER_1h.csv', index_col=0)\n",
        "demand_df = pd.read_csv('inputs/2020_demand_GER_1h.csv', index_col=0, parse_dates=True)\n",
        "feed_in_df = pd.read_csv('inputs/2020_renewablesCF_GER_1h.csv', index_col=0, parse_dates=True)\n",
        "fuel_prices = pd.read_csv('inputs/2020_fuelPrices_GER_1h.csv', index_col=0, parse_dates=True)"
      ],
      "metadata": {
        "id": "EhQqIJq25U5J"
      },
      "execution_count": null,
      "outputs": []
    },
    {
      "cell_type": "markdown",
      "source": [
        "## 🟢Setting Colors"
      ],
      "metadata": {
        "id": "FuvHD_rl5pKg"
      }
    },
    {
      "cell_type": "code",
      "source": [
        "colors = {'nuclear': 'green',\n",
        "          'lignite': 'brown',\n",
        "          'hard coal': 'black',\n",
        "          'natural gas': 'red',\n",
        "          'oil': 'yellow'\n",
        "          }"
      ],
      "metadata": {
        "id": "IFZT-EkK7kZT"
      },
      "execution_count": null,
      "outputs": []
    },
    {
      "cell_type": "markdown",
      "source": [],
      "metadata": {
        "id": "DYYkBKm870ca"
      }
    }
  ]
}